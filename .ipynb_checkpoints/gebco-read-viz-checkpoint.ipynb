{
 "cells": [
  {
   "cell_type": "code",
   "execution_count": 1,
   "metadata": {},
   "outputs": [],
   "source": [
    "import xarray as xr\n",
    "import matplotlib.pyplot as pt\n",
    "import os"
   ]
  },
  {
   "cell_type": "code",
   "execution_count": 2,
   "metadata": {},
   "outputs": [],
   "source": [
    "# get patbs\n",
    "path_code = %pwd\n",
    "os.chdir(\"..\")\n",
    "path_input = os.path.join(os.path.abspath(os.curdir),'_raw')"
   ]
  },
  {
   "cell_type": "code",
   "execution_count": 4,
   "metadata": {},
   "outputs": [
    {
     "data": {
      "text/plain": [
       "<xarray.DataArray 'elevation' (lat: 21600, lon: 43200)>\n",
       "[933120000 values with dtype=float32]\n",
       "Coordinates:\n",
       "  * lat      (lat) float64 -90.0 -89.99 -89.98 -89.97 -89.96 -89.95 -89.95 ...\n",
       "  * lon      (lon) float64 -180.0 -180.0 -180.0 -180.0 -180.0 -180.0 -179.9 ...\n",
       "Attributes:\n",
       "    standard_name:       height_above_reference_ellipsoid\n",
       "    long_name:           Elevation relative to sea level\n",
       "    units:               m\n",
       "    sdn_parameter_urn:   SDN:P01::BATHHGHT\n",
       "    sdn_parameter_name:  Sea floor height (above mean sea level) {bathymetric...\n",
       "    sdn_uom_urn:         SDN:P06:ULAA\n",
       "    sdn_uom_name:        Metres"
      ]
     },
     "execution_count": 4,
     "metadata": {},
     "output_type": "execute_result"
    }
   ],
   "source": [
    "da = xr.open_dataarray(os.path.join(path_input,'GEBCO_2014_2D.nc'));da"
   ]
  },
  {
   "cell_type": "code",
   "execution_count": null,
   "metadata": {},
   "outputs": [],
   "source": [
    "# da.plot()\n",
    "# TODO: da.plot() is costly for cpu. think about spatially subsetting and plotting that."
   ]
  }
 ],
 "metadata": {
  "kernelspec": {
   "display_name": "Python 3",
   "language": "python",
   "name": "python3"
  },
  "language_info": {
   "codemirror_mode": {
    "name": "ipython",
    "version": 3
   },
   "file_extension": ".py",
   "mimetype": "text/x-python",
   "name": "python",
   "nbconvert_exporter": "python",
   "pygments_lexer": "ipython3",
   "version": "3.6.5"
  }
 },
 "nbformat": 4,
 "nbformat_minor": 2
}
